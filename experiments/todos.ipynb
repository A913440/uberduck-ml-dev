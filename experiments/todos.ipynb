{
 "cells": [
  {
   "cell_type": "code",
   "execution_count": 1,
   "id": "52641b42",
   "metadata": {},
   "outputs": [],
   "source": [
    "import os\n",
    "import numpy as np\n",
    "import pandas as pd\n",
    "import math"
   ]
  },
  {
   "cell_type": "code",
   "execution_count": 2,
   "id": "3e9b7a6d",
   "metadata": {},
   "outputs": [],
   "source": [
    "# # export\n",
    "# def synthesize_speakerids(filelists):\n",
    "\n",
    "#     data_dict = {}\n",
    "#     for f in range(len(filelists)):\n",
    "#         data_dict[filelists[f]] = pd.read_csv(filelists[f], sep = \",\",index_col=0,error_bad_lines=False)\n",
    "#         #pd.read_csv(filelists[f], sep = \"|\",header=None, error_bad_lines=False)\n",
    "        \n",
    "#     source_files = list(data_dict.keys())\n",
    "#     nspeakers_cumulative = 0\n",
    "#     speaker_offset = {}\n",
    "#     for source_file in filelists:\n",
    "#         data = data_dict[source_file]\n",
    "#         nspeakers = len(np.unique(data.iloc[:,2]))\n",
    "#         data.iloc[:,2] = data.iloc[:,2] + nspeakers_cumulative\n",
    "#         data_dict[source_file] = data\n",
    "#         speaker_offset[source_file] = nspeakers_cumulative\n",
    "#         nspeakers_cumulative = nspeakers_cumulative + nspeakers\n",
    "\n",
    "#     return(data_dict)  "
   ]
  },
  {
   "cell_type": "code",
   "execution_count": 3,
   "id": "1cf114bd",
   "metadata": {},
   "outputs": [],
   "source": [
    "# export\n",
    "import soundfile as sf\n",
    "\n",
    "\n",
    "def load_filepaths_and_text(filename, split=\"|\"):\n",
    "    with open(filename, encoding='utf-8') as f:\n",
    "        filepaths_and_text = [line.strip().split(split) for line in f]\n",
    "    return filepaths_and_text\n",
    "\n",
    "def synthesize_speakerids2(filelists, fix_indices_index = None):\n",
    "\n",
    "    data_dict = {}\n",
    "    data_dict_out = {}\n",
    "    for f in range(len(filelists)):\n",
    "        #data_dict[filelists[f]] = pd.read_csv(filelists[f], sep = \",\",index_col=0,error_bad_lines=False)\n",
    "            data = load_filepaths_and_text(filelists[f])\n",
    "            data_dict[filelists[f]] = pd.DataFrame(data)\n",
    "            data_dict[filelists[f]].iloc[:,2] = np.asarray(data_dict[filelists[f]].iloc[:,2], dtype = int)\n",
    "            data_dict[filelists[f]].iloc[:,2] = np.asarray(data_dict[filelists[f]].iloc[:,2], dtype = object)\n",
    "        #pd.read_csv(filelists[f], sep = \"|\",header=None, error_bad_lines=False)\n",
    "        \n",
    "    source_files = list(data_dict.keys())\n",
    "    \n",
    "    speaker_offset = {}\n",
    "    nfilelist = len(filelists)\n",
    "    reserved_speakers = np.asarray(np.unique(data_dict[filelists[fix_indices_index]].iloc[:,2]), dtype = object)\n",
    "    \n",
    "    for s in range(nfilelist):\n",
    "        source_file = filelists[s]\n",
    "        #print(s,source_file)\n",
    "        data = data_dict[source_file]\n",
    "        if s != fix_indices_index:\n",
    "            speakers = np.asarray(np.unique(data.iloc[:,2]), dtype = object)\n",
    "            #print(speakers,'speaker_input')\n",
    "            overlap = np.where(np.isin(speakers, reserved_speakers))[0]\n",
    "            reserved_speakers_temp = np.union1d(speakers, reserved_speakers)\n",
    "            naive_guess = np.asarray(list(range(len(reserved_speakers) + len(speakers))), dtype = object)\n",
    "            newindices = np.setdiff1d(naive_guess, reserved_speakers_temp)[:len(overlap)]\n",
    "            #print(s,len(overlap))\n",
    "            for o in range(len(overlap)):\n",
    "                data.iloc[np.where(data.iloc[:,2] == overlap[o])[0] ,2] = newindices[o]\n",
    "            #print(newindices,'new_index')\n",
    "            data_dict_out[source_file] = data\n",
    "            speakers = np.unique(data.iloc[:,2])\n",
    "            reserved_speakers = np.union1d(speakers, reserved_speakers)\n",
    "            #print(speakers,reserved_speakers)\n",
    "        else:\n",
    "            data_dict_out[source_file] = data\n",
    "            \n",
    "    return(data_dict_out)  "
   ]
  },
  {
   "cell_type": "code",
   "execution_count": 4,
   "id": "f4e0cf1a",
   "metadata": {},
   "outputs": [],
   "source": [
    "# SAMPLE_RATE = 22050\n",
    "# loader = Loader(sample_rate=SAMPLE_RATE)\n",
    "# padder = Padder(sample_rate=SAMPLE_RATE, pad_ms=50)\n",
    "# trimmer = TrimSilence(leading_silence_threshold=-33, trailing_silence_threshold=-36)\n",
    "# # normalizer = Normalizer(min_val=0,max_val=1)\n",
    "\n",
    "# pipeline = PreprocessingPipeline(loader=loader, \n",
    "#                                    padder=padder, \n",
    "#                                    trimmer=trimmer)\n",
    "# In [14]:\n",
    "# input_folder = \"vctk_sample_test/*/*.wav\"\n",
    "# output_folder = \"vctk_sample_preprocessed\"\n",
    "\n",
    "# # Preprocess files in input folder and write to output folder\n"
   ]
  },
  {
   "cell_type": "code",
   "execution_count": 5,
   "id": "3db47e5e",
   "metadata": {},
   "outputs": [
    {
     "name": "stdout",
     "output_type": "stream",
     "text": [
      "['lj7_processed_file.npy', 'libritts_processed_file.npy', 'uberduck_processed_files.npy', 'vctk_processed_file.npy']\n"
     ]
    }
   ],
   "source": [
    "metalist_dir = '/mnt/disks/uberduck-experiments-v0/uberduck-ml-dev/experiments/metadata_collections'\n",
    "metalist_files = os.listdir(metalist_dir)\n",
    "print(metalist_files)\n",
    "train_ratios = np.ones(4)*1."
   ]
  },
  {
   "cell_type": "code",
   "execution_count": 6,
   "id": "18397234",
   "metadata": {},
   "outputs": [],
   "source": [
    "filelists=np.asarray([])\n",
    "#files = np.asarray([])\n",
    "for r in range(4):\n",
    "    files = np.load(metalist_dir +'/'+ metalist_files[r],allow_pickle=True)\n",
    "    filelist = np.asarray([])\n",
    "    \n",
    "    if files.ndim > 0:\n",
    "        nfiles = files.shape[0]\n",
    "        for s in range(nfiles):\n",
    "            filelist = np.append(filelist, files[s])\n",
    "    else: \n",
    "        filelist = files\n",
    "    filelists = np.append(filelists, filelist)"
   ]
  },
  {
   "cell_type": "code",
   "execution_count": 7,
   "id": "3b57be06",
   "metadata": {},
   "outputs": [
    {
     "name": "stdout",
     "output_type": "stream",
     "text": [
      "['/mnt/disks/uberduck-experiments-v0/uberduck-ml-dev/experiments/processed_metadata/lj7all_processed.txt'\n",
      " '/mnt/disks/uberduck-experiments-v0/uberduck-ml-dev/experiments/processed_metadata/librittsall_processed.txt'\n",
      " '/mnt/disks/uberduck-experiments-v0/uberduck-ml-dev/experiments/processed_metadata/eminem_all_processed.txt'\n",
      " '/mnt/disks/uberduck-experiments-v0/uberduck-ml-dev/experiments/processed_metadata/ben-shapiro_all_processed.txt'\n",
      " '/mnt/disks/uberduck-experiments-v0/uberduck-ml-dev/experiments/processed_metadata/jay-z_all_processed.txt'\n",
      " '/mnt/disks/uberduck-experiments-v0/uberduck-ml-dev/experiments/processed_metadata/vctkall_processed.txt']\n"
     ]
    }
   ],
   "source": [
    "print(filelists)\n",
    "dd = synthesize_speakerids2(filelists,1)"
   ]
  },
  {
   "cell_type": "code",
   "execution_count": 8,
   "id": "098e6f15",
   "metadata": {},
   "outputs": [],
   "source": [
    "ad = list(dd.values())\n",
    "#ad2 = [ad[i] for i in [0,2,3]]\n",
    "#ad2 = [ad[i] for i in [2,3,4]]\n",
    "#ad2 = [ad[i] for i in [0,2,3,4]]\n",
    "#ad2 = [ad[i] for i in [0,2,3,4]]\n",
    "#ad2 = [ad[i] for i in [2,3,4]]\n",
    "ad2 = [ad[i] for i in [2,3,4]]\n",
    "#ad2 = [ad[i] for i in [0]]\n",
    "alldata = pd.concat(ad2)"
   ]
  },
  {
   "cell_type": "code",
   "execution_count": 9,
   "id": "62a907f7",
   "metadata": {},
   "outputs": [],
   "source": [
    "train_ind = np.random.choice(alldata.shape[0], math.floor(alldata.shape[0]*.8), replace = False)\n",
    "val_ind = np.setdiff1d(list(range(alldata.shape[0])), train_ind)\n",
    "alldata.iloc[train_ind,:].to_csv('/mnt/disks/uberduck-experiments-v0/uberduck-ml-dev/experiments/filelists/lj_train.txt', header = False,sep = '|', index=False)\n",
    "alldata.iloc[val_ind].to_csv('/mnt/disks/uberduck-experiments-v0/uberduck-ml-dev/experiments/filelists/lj_val.txt', header = False,sep = '|', index=False)"
   ]
  },
  {
   "cell_type": "code",
   "execution_count": 9,
   "id": "fb3c5515",
   "metadata": {},
   "outputs": [],
   "source": [
    "train_ind = np.random.choice(alldata.shape[0], math.floor(alldata.shape[0]*.8), replace = False)\n",
    "val_ind = np.setdiff1d(list(range(alldata.shape[0])), train_ind)\n",
    "alldata.iloc[train_ind,:].to_csv('/mnt/disks/uberduck-experiments-v0/uberduck-ml-dev/experiments/filelists/em_train.txt', header = False,sep = '|', index=False)\n",
    "alldata.iloc[val_ind].to_csv('/mnt/disks/uberduck-experiments-v0/uberduck-ml-dev/experiments/filelists/em_val.txt', header = False,sep = '|', index=False)"
   ]
  },
  {
   "cell_type": "code",
   "execution_count": 9,
   "id": "00871cc9",
   "metadata": {},
   "outputs": [],
   "source": [
    "train_ind = np.random.choice(alldata.shape[0], math.floor(alldata.shape[0]*.8), replace = False)\n",
    "val_ind = np.setdiff1d(list(range(alldata.shape[0])), train_ind)\n",
    "alldata.iloc[train_ind,:].to_csv('/mnt/disks/uberduck-experiments-v0/uberduck-ml-dev/experiments/filelists/uber3_train.txt', header = False,sep = '|', index=False)\n",
    "alldata.iloc[val_ind].to_csv('/mnt/disks/uberduck-experiments-v0/uberduck-ml-dev/experiments/filelists/uber3_val.txt', header = False,sep = '|', index=False)"
   ]
  },
  {
   "cell_type": "code",
   "execution_count": null,
   "id": "5bbbae21",
   "metadata": {},
   "outputs": [],
   "source": []
  },
  {
   "cell_type": "code",
   "execution_count": null,
   "id": "4f0653ae",
   "metadata": {},
   "outputs": [],
   "source": []
  },
  {
   "cell_type": "code",
   "execution_count": null,
   "id": "15dab226",
   "metadata": {},
   "outputs": [],
   "source": []
  },
  {
   "cell_type": "code",
   "execution_count": 22,
   "id": "4aa29b47",
   "metadata": {},
   "outputs": [
    {
     "ename": "NameError",
     "evalue": "name 'Loader' is not defined",
     "output_type": "error",
     "traceback": [
      "\u001b[0;31m---------------------------------------------------------------------------\u001b[0m",
      "\u001b[0;31mNameError\u001b[0m                                 Traceback (most recent call last)",
      "\u001b[0;32m/tmp/ipykernel_29645/3141130244.py\u001b[0m in \u001b[0;36m<module>\u001b[0;34m\u001b[0m\n\u001b[1;32m      1\u001b[0m \u001b[0mSAMPLE_RATE\u001b[0m \u001b[0;34m=\u001b[0m \u001b[0;36m22050\u001b[0m\u001b[0;34m\u001b[0m\u001b[0;34m\u001b[0m\u001b[0m\n\u001b[0;32m----> 2\u001b[0;31m \u001b[0mloader\u001b[0m \u001b[0;34m=\u001b[0m \u001b[0mLoader\u001b[0m\u001b[0;34m(\u001b[0m\u001b[0msample_rate\u001b[0m\u001b[0;34m=\u001b[0m\u001b[0mSAMPLE_RATE\u001b[0m\u001b[0;34m)\u001b[0m\u001b[0;34m\u001b[0m\u001b[0;34m\u001b[0m\u001b[0m\n\u001b[0m\u001b[1;32m      3\u001b[0m \u001b[0mpadder\u001b[0m \u001b[0;34m=\u001b[0m \u001b[0mPadder\u001b[0m\u001b[0;34m(\u001b[0m\u001b[0msample_rate\u001b[0m\u001b[0;34m=\u001b[0m\u001b[0mSAMPLE_RATE\u001b[0m\u001b[0;34m,\u001b[0m \u001b[0mpad_ms\u001b[0m\u001b[0;34m=\u001b[0m\u001b[0;36m50\u001b[0m\u001b[0;34m)\u001b[0m\u001b[0;34m\u001b[0m\u001b[0;34m\u001b[0m\u001b[0m\n\u001b[1;32m      4\u001b[0m \u001b[0mtrimmer\u001b[0m \u001b[0;34m=\u001b[0m \u001b[0mTrimSilence\u001b[0m\u001b[0;34m(\u001b[0m\u001b[0mleading_silence_threshold\u001b[0m\u001b[0;34m=\u001b[0m\u001b[0;34m-\u001b[0m\u001b[0;36m33\u001b[0m\u001b[0;34m,\u001b[0m \u001b[0mtrailing_silence_threshold\u001b[0m\u001b[0;34m=\u001b[0m\u001b[0;34m-\u001b[0m\u001b[0;36m36\u001b[0m\u001b[0;34m)\u001b[0m\u001b[0;34m\u001b[0m\u001b[0;34m\u001b[0m\u001b[0m\n\u001b[1;32m      5\u001b[0m \u001b[0;31m# normalizer = Normalizer(min_val=0,max_val=1)\u001b[0m\u001b[0;34m\u001b[0m\u001b[0;34m\u001b[0m\u001b[0;34m\u001b[0m\u001b[0m\n",
      "\u001b[0;31mNameError\u001b[0m: name 'Loader' is not defined"
     ]
    }
   ],
   "source": [
    "SAMPLE_RATE = 22050\n",
    "loader = Loader(sample_rate=SAMPLE_RATE)\n",
    "padder = Padder(sample_rate=SAMPLE_RATE, pad_ms=50)\n",
    "trimmer = TrimSilence(leading_silence_threshold=-33, trailing_silence_threshold=-36)\n",
    "# normalizer = Normalizer(min_val=0,max_val=1)\n",
    "\n",
    "pipeline = PreprocessingPipeline(loader=loader, \n",
    "                                   padder=padder, \n",
    "                                   trimmer=trimmer)\n",
    "i = 0\n",
    "for audio_file in alldata.iloc[:2,0]:\n",
    "    i = i+1\n",
    "    print(i)\n",
    "    # Grab filename and create path to file in new location\n",
    "    path_parts = audio_file.split(\".wav\")\n",
    "    file_name = path_parts[-2]\n",
    "#    output_path = os.path.join(output_folder,path_parts[1])\n",
    "#     if not os.path.exists(output_path):\n",
    "#         os.mkdir(output_path)\n",
    "        \n",
    "#     # Run data through pipeline\n",
    "    \n",
    "    original, processed = pipeline.preprocess(audio_file)\n",
    "    output_path = file_name + \"_processed.wav\"\n",
    "    #sf.write(output_path,processed,samplerate=22050)\n",
    "#     # Write new data\n",
    "#     write_path = audio_file #os.path.join(output_path,file_name)\n",
    "#     librosa.output.write_wav(write_path,processed,sr=SAMPLE_RATE)"
   ]
  },
  {
   "cell_type": "code",
   "execution_count": 29,
   "id": "2d7c3e3b",
   "metadata": {},
   "outputs": [
    {
     "data": {
      "text/html": [
       "\n",
       "                <audio  controls=\"controls\" >\n",
       "                    <source src=\"data:audio/x-wav;base64,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\" type=\"audio/x-wav\" />\n",
       "                    Your browser does not support the audio element.\n",
       "                </audio>\n",
       "              "
      ],
      "text/plain": [
       "<IPython.lib.display.Audio object>"
      ]
     },
     "execution_count": 29,
     "metadata": {},
     "output_type": "execute_result"
    }
   ],
   "source": [
    "import IPython\n",
    "import soundfile as sf\n",
    "IPython.display.Audio(\"/mnt/disks/uberduck-experiments-v0/data/uberduck/eminem/wav/01.wav\")"
   ]
  },
  {
   "cell_type": "code",
   "execution_count": 46,
   "id": "f6e8ba1a",
   "metadata": {},
   "outputs": [
    {
     "ename": "OSError",
     "evalue": "PortAudio library not found",
     "output_type": "error",
     "traceback": [
      "\u001b[0;31m---------------------------------------------------------------------------\u001b[0m",
      "\u001b[0;31mOSError\u001b[0m                                   Traceback (most recent call last)",
      "\u001b[0;32m/tmp/ipykernel_8026/3160613937.py\u001b[0m in \u001b[0;36m<module>\u001b[0;34m\u001b[0m\n\u001b[0;32m----> 1\u001b[0;31m \u001b[0;32mimport\u001b[0m \u001b[0msounddevice\u001b[0m \u001b[0;32mas\u001b[0m \u001b[0msd\u001b[0m\u001b[0;34m\u001b[0m\u001b[0;34m\u001b[0m\u001b[0m\n\u001b[0m\u001b[1;32m      2\u001b[0m \u001b[0;34m\u001b[0m\u001b[0m\n\u001b[1;32m      3\u001b[0m \u001b[0mfs\u001b[0m \u001b[0;34m=\u001b[0m \u001b[0;36m22050\u001b[0m\u001b[0;34m\u001b[0m\u001b[0;34m\u001b[0m\u001b[0m\n\u001b[1;32m      4\u001b[0m \u001b[0mdata\u001b[0m \u001b[0;34m=\u001b[0m \u001b[0mnp\u001b[0m\u001b[0;34m.\u001b[0m\u001b[0mrandom\u001b[0m\u001b[0;34m.\u001b[0m\u001b[0muniform\u001b[0m\u001b[0;34m(\u001b[0m\u001b[0;34m-\u001b[0m\u001b[0;36m1\u001b[0m\u001b[0;34m,\u001b[0m \u001b[0;36m1\u001b[0m\u001b[0;34m,\u001b[0m \u001b[0mfs\u001b[0m\u001b[0;34m)\u001b[0m\u001b[0;34m\u001b[0m\u001b[0;34m\u001b[0m\u001b[0m\n\u001b[1;32m      5\u001b[0m \u001b[0msd\u001b[0m\u001b[0;34m.\u001b[0m\u001b[0mplay\u001b[0m\u001b[0;34m(\u001b[0m\u001b[0mprocessed\u001b[0m\u001b[0;34m,\u001b[0m \u001b[0mfs\u001b[0m\u001b[0;34m)\u001b[0m\u001b[0;34m\u001b[0m\u001b[0;34m\u001b[0m\u001b[0m\n",
      "\u001b[0;32m/opt/conda/lib/python3.7/site-packages/sounddevice.py\u001b[0m in \u001b[0;36m<module>\u001b[0;34m\u001b[0m\n\u001b[1;32m     69\u001b[0m             \u001b[0;32mbreak\u001b[0m\u001b[0;34m\u001b[0m\u001b[0;34m\u001b[0m\u001b[0m\n\u001b[1;32m     70\u001b[0m     \u001b[0;32melse\u001b[0m\u001b[0;34m:\u001b[0m\u001b[0;34m\u001b[0m\u001b[0;34m\u001b[0m\u001b[0m\n\u001b[0;32m---> 71\u001b[0;31m         \u001b[0;32mraise\u001b[0m \u001b[0mOSError\u001b[0m\u001b[0;34m(\u001b[0m\u001b[0;34m'PortAudio library not found'\u001b[0m\u001b[0;34m)\u001b[0m\u001b[0;34m\u001b[0m\u001b[0;34m\u001b[0m\u001b[0m\n\u001b[0m\u001b[1;32m     72\u001b[0m     \u001b[0m_lib\u001b[0m \u001b[0;34m=\u001b[0m \u001b[0m_ffi\u001b[0m\u001b[0;34m.\u001b[0m\u001b[0mdlopen\u001b[0m\u001b[0;34m(\u001b[0m\u001b[0m_libname\u001b[0m\u001b[0;34m)\u001b[0m\u001b[0;34m\u001b[0m\u001b[0;34m\u001b[0m\u001b[0m\n\u001b[1;32m     73\u001b[0m \u001b[0;32mexcept\u001b[0m \u001b[0mOSError\u001b[0m\u001b[0;34m:\u001b[0m\u001b[0;34m\u001b[0m\u001b[0;34m\u001b[0m\u001b[0m\n",
      "\u001b[0;31mOSError\u001b[0m: PortAudio library not found"
     ]
    }
   ],
   "source": [
    "import sounddevice as sd\n",
    "\n",
    "fs = 22050\n",
    "data = np.random.uniform(-1, 1, fs)\n",
    "sd.play(processed, fs)"
   ]
  },
  {
   "cell_type": "code",
   "execution_count": 30,
   "id": "c892f17e",
   "metadata": {},
   "outputs": [],
   "source": [
    "# for i in range(alldata.shape[0]):\n",
    "#     path_parts = alldata.iloc[i,0].split(\".wav\")\n",
    "#     file_name = path_parts[-2]\n",
    "#     output_path = file_name + \"_processed.wav\"\n",
    "#     alldata.iloc[i,0] = output_path"
   ]
  },
  {
   "cell_type": "code",
   "execution_count": 24,
   "id": "3bf57762",
   "metadata": {},
   "outputs": [],
   "source": []
  },
  {
   "cell_type": "code",
   "execution_count": 33,
   "id": "76122c60",
   "metadata": {},
   "outputs": [],
   "source": []
  },
  {
   "cell_type": "code",
   "execution_count": 34,
   "id": "fb829e43",
   "metadata": {
    "scrolled": true
   },
   "outputs": [],
   "source": []
  },
  {
   "cell_type": "code",
   "execution_count": 32,
   "id": "104b2851",
   "metadata": {},
   "outputs": [
    {
     "data": {
      "text/plain": [
       "'/mnt/disks/uberduck-experiments-v0/data/uberduck/eminem/wav/01.wav'"
      ]
     },
     "execution_count": 32,
     "metadata": {},
     "output_type": "execute_result"
    }
   ],
   "source": [
    "alldata.iloc[0,0]"
   ]
  },
  {
   "cell_type": "code",
   "execution_count": 13,
   "id": "78c23caa",
   "metadata": {},
   "outputs": [],
   "source": [
    "    def create_speaker_lookup_table(audiopaths_and_text):\n",
    "        speaker_ids = np.sort(np.unique([x[2] for x in audiopaths_and_text]))\n",
    "        d = {int(speaker_ids[i]): i for i in range(len(speaker_ids))}\n",
    "        return d"
   ]
  },
  {
   "cell_type": "code",
   "execution_count": 19,
   "id": "20c32cf1",
   "metadata": {},
   "outputs": [],
   "source": [
    "#audiopaths_and_text = '/mnt/disks/uberduck-experiments-v0/uberduck-ml-dev/experiments/filelists/todos_train.txt'\n",
    "audiopaths_and_text = '/mnt/disks/uberduck-experiments-v0/uberduck-ml-dev/experiments/filelists/todos_train.txt'\n",
    "audiopaths_and_text = load_filepaths_and_text(audiopaths_and_text)\n",
    "#asdf = [x[2] for x in audiopaths_and_text]"
   ]
  },
  {
   "cell_type": "code",
   "execution_count": 35,
   "id": "bfc532cb",
   "metadata": {},
   "outputs": [],
   "source": [
    "from numba import cuda \n",
    "cuda.select_device(0)\n",
    "cuda.close()"
   ]
  },
  {
   "cell_type": "code",
   "execution_count": 20,
   "id": "9885197b",
   "metadata": {},
   "outputs": [
    {
     "data": {
      "text/plain": [
       "{0: 0}"
      ]
     },
     "execution_count": 20,
     "metadata": {},
     "output_type": "execute_result"
    }
   ],
   "source": [
    "create_speaker_lookup_table(audiopaths_and_text)"
   ]
  },
  {
   "cell_type": "code",
   "execution_count": 242,
   "id": "8f16234a",
   "metadata": {},
   "outputs": [],
   "source": [
    "import librosa"
   ]
  },
  {
   "cell_type": "code",
   "execution_count": 244,
   "id": "d1cf9b45",
   "metadata": {},
   "outputs": [
    {
     "data": {
      "text/plain": [
       "(array([ 0.00335953,  0.00497484,  0.00431533, ..., -0.00397925,\n",
       "        -0.00451155,  0.        ], dtype=float32),\n",
       " 22050)"
      ]
     },
     "execution_count": 244,
     "metadata": {},
     "output_type": "execute_result"
    }
   ],
   "source": [
    "librosa.load(audiopaths_and_text[4][0])"
   ]
  },
  {
   "cell_type": "code",
   "execution_count": 245,
   "id": "bd174f02",
   "metadata": {},
   "outputs": [
    {
     "data": {
      "text/plain": [
       "(array([ 0.00469971,  0.00460815,  0.00466919, ..., -0.00439453,\n",
       "        -0.00415039, -0.00308228]),\n",
       " 48000)"
      ]
     },
     "execution_count": 245,
     "metadata": {},
     "output_type": "execute_result"
    }
   ],
   "source": [
    "sf.read(audiopaths_and_text[4][0])"
   ]
  },
  {
   "cell_type": "code",
   "execution_count": 239,
   "id": "b080765a",
   "metadata": {},
   "outputs": [
    {
     "data": {
      "text/plain": [
       "'/mnt/disks/uberduck-experiments-v0/data/LJSpeech-1.1/wavs/LJ010-0305.wav'"
      ]
     },
     "execution_count": 239,
     "metadata": {},
     "output_type": "execute_result"
    }
   ],
   "source": [
    "audiopaths_and_text[5][0]"
   ]
  },
  {
   "cell_type": "code",
   "execution_count": 154,
   "id": "9a5e64c4",
   "metadata": {},
   "outputs": [],
   "source": [
    "filename = audiopaths_and_text"
   ]
  },
  {
   "cell_type": "code",
   "execution_count": 155,
   "id": "dba73ffc",
   "metadata": {},
   "outputs": [],
   "source": [
    "with open(filename, encoding='utf-8') as f:\n",
    "    filepaths_and_text = [line for line in f]"
   ]
  },
  {
   "cell_type": "code",
   "execution_count": null,
   "id": "f2585fd9",
   "metadata": {},
   "outputs": [],
   "source": [
    "### source_files = [experiment_filelist_dir + 'eminem_all.txt',\n",
    "#             '/mnt/disk/uberduck-experiments-v0/data/uberduck/kanye-rap/all.txt',\n",
    "#             '/mnt/disk/uberduck-experiments-v0/data/uberduck/alex-trebek/all.txt',\n",
    "#             '/mnt/disk/uberduck-experiments-v0/data/uberduck/ben-shapiro/all.txt',\n",
    "#             '/mnt/disk/uberduck-experiments-v0/data/uberduck/michael-rosen/all.txt',\n",
    "#             '/mnt/disk/uberduck-experiments-v0/data/uberduck/steve-harvey/all.txt',\n",
    "#             '/mnt/disk/uberduck-experiments-v0/data/uberduck/LJSpeech-1.1/metadata.csv',\n",
    "#             '/mnt/disk/uberduck-experiments-v0/data/uberduck/LibriTTS/metadata_mellotron.txt',\n",
    "#             '/mnt/disk/uberduck-experiments-v0/data/uberduck/vctk/metadata.txt']\n",
    "\n",
    "# synthesize_speakerids(source_files) #need to change\n",
    "# reindex()\n",
    "\n",
    "# train,val  = get_testval_split()\n",
    "\n",
    "# TTSModel('mellotron')"
   ]
  },
  {
   "cell_type": "code",
   "execution_count": 37,
   "id": "a800f326",
   "metadata": {},
   "outputs": [],
   "source": [
    "'''\n",
    "Preprocessing Pipeline\n",
    "1 - Load data\n",
    "2 - Convert to correct sample rate using\n",
    "3a - Detect silence on front\n",
    "3b - Detect silence on back \n",
    "4a - Trim silence on front\n",
    "4b - Trim silence on back\n",
    "5 - Normalize mel spectrogram\n",
    "6a - Pad silence to front\n",
    "6b - Pad silence to back\n",
    "'''\n",
    "import librosa\n",
    "import matplotlib.pyplot as plt\n",
    "#import torchaudio\n",
    "import torch\n",
    "import numpy as np\n",
    "import librosa.display\n",
    "import glob\n",
    "import pydub\n",
    "from pydub import AudioSegment\n",
    "\n",
    "\n",
    "class Loader:\n",
    "    \"\"\" \n",
    "    Load audio file and resample to desired sample rate\n",
    "        sample_rate (int): desired sample rate\n",
    "    \"\"\"\n",
    "\n",
    "    def __init__(self, sample_rate=22050):\n",
    "        self.sample_rate = sample_rate\n",
    "\n",
    "    def load(self, file_path):\n",
    "        signal = AudioSegment.from_file(file_path)\n",
    "        signal = signal.set_frame_rate(self.sample_rate)\n",
    "        return signal\n",
    "\n",
    "\n",
    "class Padder:\n",
    "    \"\"\"\n",
    "    Apply padding to array\n",
    "        mode (str): argument for numpy padding \n",
    "        pad_time (int): numebr of ms to pad to left and right\n",
    "    \"\"\"\n",
    "\n",
    "    def __init__(self, sample_rate, mode=\"constant\", pad_ms=50):\n",
    "        self.pad_time = pad_ms / 1000  # Convert to seconds\n",
    "        self.sample_rate = sample_rate\n",
    "        self.mode = mode\n",
    "\n",
    "    def pad(self, arr):\n",
    "        '''\n",
    "        Pads zeros (silence) to front and back of audio signal\n",
    "            ms: number of millseconds to bad for (ms)\n",
    "            sr: sample_rate (Hz)\n",
    "        '''\n",
    "\n",
    "        n_padding = self.get_pad_length()\n",
    "        padded_arr = self.left_pad(arr, n_padding)\n",
    "        padded_arr = self.right_pad(padded_arr, n_padding)\n",
    "\n",
    "        return padded_arr\n",
    "\n",
    "    def get_pad_length(self):\n",
    "        '''\n",
    "        Calculates number of elements to pad to array\n",
    "            sr (int): sample rate\n",
    "            t (int): Number of seconds to pad for\n",
    "        '''\n",
    "        return int(self.sample_rate * self.pad_time)\n",
    "\n",
    "    def left_pad(self, arr, n_missing_items):\n",
    "        # [1,2,3] -> 2 -> [0,0,1,2,3]\n",
    "        padded_array = np.pad(arr,\n",
    "                              (n_missing_items, 0),\n",
    "                              mode=self.mode)\n",
    "\n",
    "        return padded_array\n",
    "\n",
    "    def right_pad(self, arr, n_missing_items):\n",
    "        # [1,2,3] -> 2 -> [1,2,3,0,0]\n",
    "        padded_array = np.pad(arr,\n",
    "                              (0, n_missing_items),\n",
    "                              mode=self.mode)\n",
    "        return padded_array\n",
    "\n",
    "\n",
    "class TrimSilence():\n",
    "    def __init__(self, mode=\"constant\", leading_silence_threshold=-33, trailing_silence_threshold=-40):\n",
    "        self.mode = mode\n",
    "        self.leading_silence_threshold = leading_silence_threshold\n",
    "        self.trailing_silence_threshold = trailing_silence_threshold\n",
    "\n",
    "    def detect_silence(self, signal):\n",
    "        '''\n",
    "        Calls function to detect silence. \n",
    "        Could be with pydub, librosa, or pytorch VAD.\n",
    "        '''\n",
    "        start_trim, end_trim = self.pydub_detect_silence(signal)\n",
    "        return start_trim, end_trim\n",
    "\n",
    "    def crop_silence(self, signal, start_trim, end_trim):\n",
    "        duration = len(signal)\n",
    "        return signal[start_trim:duration-end_trim]\n",
    "\n",
    "    # Calculate and return indices to trim for\n",
    "    # leading and trailing silences\n",
    "    def pydub_detect_silence(self, signal):\n",
    "        start_trim = pydub.silence.detect_leading_silence(\n",
    "            signal, silence_threshold=self.leading_silence_threshold)\n",
    "        end_trim = pydub.silence.detect_leading_silence(\n",
    "            signal.reverse(), silence_threshold=self.trailing_silence_threshold)\n",
    "        return start_trim, end_trim\n",
    "\n",
    "    # Main for trimming class\n",
    "    def trim(self, signal):\n",
    "        start_trim, end_trim = self.detect_silence(signal)\n",
    "        signal_trimmed = self.crop_silence(signal, start_trim, end_trim)\n",
    "        return signal_trimmed\n",
    "\n",
    "# class LogSpectrogramExtractor:\n",
    "#     \"\"\"\n",
    "#     Extracts log spectrograms (in dB) from a time series signal\n",
    "#     frame_size\n",
    "#     hop_length\n",
    "#     \"\"\"\n",
    "\n",
    "#     def __init__(self, frame_size, hop_length):\n",
    "#         self.frame_size = frame_size\n",
    "#         self.hop_length = hop_length\n",
    "\n",
    "#     def extract(self, signal):\n",
    "#         # Returns (1+frame_size / 2, num_frames)\n",
    "#         # remove last index to keep even\n",
    "#         # 1024 -> 513 -> 512\n",
    "#         stft = librosa.stft(signal,\n",
    "#                             n_fft=self.frame_size,\n",
    "#                             hop_length=self.hop_length)[:-1]\n",
    "#         spectrogram = np.abs(stft)\n",
    "#         log_spectrogram = librosa.amplitude_to_db(spectrogram)\n",
    "#         return log_spectrogram\n",
    "\n",
    "\n",
    "class Normalizer:\n",
    "    \"\"\" \n",
    "    Apply min max normalization to an array. \n",
    "    Min value of array set to self.min, max value to self.max\n",
    "    \"\"\"\n",
    "\n",
    "    def __init__(self, min_val, max_val):\n",
    "        self.min = min_val\n",
    "        self.max = max_val\n",
    "\n",
    "    def librosa_normalize(self, signal):\n",
    "        return librosa.util.normalize(signal)\n",
    "\n",
    "    def min_max_normalize(self, arr):\n",
    "        # Convert to range [0,1]\n",
    "        norm_arr = (arr - arr.min() / (arr.max() - arr.min()))\n",
    "\n",
    "        # Convert range to [self.min, self.max]\n",
    "        norm_arr = norm_arr * (self.max - self.min) + self.min\n",
    "        return norm_arr\n",
    "\n",
    "    def min_max_denormalize(self, norm_arr, original_min, original_max):\n",
    "        arr = (norm_arr - self.min) / (self.max - self.min)\n",
    "        arr = arr * (original_max - original_min) + original_min\n",
    "\n",
    "    def normalize(self, signal):\n",
    "        return self.librosa_normalize(signal)\n",
    "\n",
    "\n",
    "class PreprocessingPipeline:\n",
    "    \"\"\" \n",
    "    Processes audio files in directory, applying the \n",
    "    following steps to each file:\n",
    "    1 - load a file\n",
    "    2 - pad the signal\n",
    "    3 - extract log spectrogram fro msignal\n",
    "    4 - normalize spectrogram\n",
    "    5 - save normalized spectrogram\n",
    "    Store min/max values for all log spectrograms\n",
    "    \"\"\"\n",
    "\n",
    "    def __init__(self, loader=None, trimmer=None, normalizer=None, padder=None):\n",
    "        self.loader = loader\n",
    "        self.trimmer = trimmer\n",
    "        self.normalizer = normalizer\n",
    "        self.padder = padder\n",
    "\n",
    "    def pydub_to_np(self, pydub_signal):\n",
    "        return np.array(pydub_signal.get_array_of_samples(), dtype=np.float64)\n",
    "\n",
    "    def save(self, signal, path, sr):\n",
    "        librosa.output.write_wav(path, signal, sr=sr)\n",
    "\n",
    "    # Main preprocessing function\n",
    "    def preprocess(self, file_path):\n",
    "        # Loads in pydub signal and converts to specified sample rate\n",
    "        original_signal = self.loader.load(file_path)\n",
    "\n",
    "        # Detects and trims leading and trailing silence\n",
    "        processed_signal = self.trimmer.trim(original_signal)\n",
    "        # print(trimmed_signal)\n",
    "\n",
    "        # Convert pydub to numpy to use librosa norm\n",
    "        processed_signal = self.pydub_to_np(processed_signal)\n",
    "        # print(trimmed_signal_np)\n",
    "\n",
    "        if self.normalizer:\n",
    "            # Perform min/max normalization\n",
    "            processed_signal = self.normalizer.normalize(processed_signal)\n",
    "            # print(normalized_signal)\n",
    "\n",
    "        # Pad signal with silence\n",
    "        processed_signal = self.padder.pad(processed_signal)\n",
    "        # print(padded_signal)\n",
    "        return self.pydub_to_np(original_signal), processed_signal\n"
   ]
  },
  {
   "cell_type": "code",
   "execution_count": 44,
   "id": "142d01f3",
   "metadata": {},
   "outputs": [
    {
     "name": "stdout",
     "output_type": "stream",
     "text": [
      "Collecting sounddevice\n",
      "  Downloading sounddevice-0.4.2-py3-none-any.whl (31 kB)\n",
      "Requirement already satisfied: CFFI>=1.0 in /opt/conda/lib/python3.7/site-packages (from sounddevice) (1.14.6)\n",
      "Requirement already satisfied: pycparser in /opt/conda/lib/python3.7/site-packages (from CFFI>=1.0->sounddevice) (2.20)\n",
      "Installing collected packages: sounddevice\n",
      "Successfully installed sounddevice-0.4.2\n"
     ]
    }
   ],
   "source": [
    "import sys\n",
    "#!{sys.executable} -m pip install pydub\n",
    "!{sys.executable} -m pip install sounddevice"
   ]
  },
  {
   "cell_type": "code",
   "execution_count": null,
   "id": "1e76d5aa",
   "metadata": {},
   "outputs": [],
   "source": []
  }
 ],
 "metadata": {
  "kernelspec": {
   "display_name": "Python [conda env:root] *",
   "language": "python",
   "name": "conda-root-py"
  },
  "language_info": {
   "codemirror_mode": {
    "name": "ipython",
    "version": 3
   },
   "file_extension": ".py",
   "mimetype": "text/x-python",
   "name": "python",
   "nbconvert_exporter": "python",
   "pygments_lexer": "ipython3",
   "version": "3.7.10"
  }
 },
 "nbformat": 4,
 "nbformat_minor": 5
}
